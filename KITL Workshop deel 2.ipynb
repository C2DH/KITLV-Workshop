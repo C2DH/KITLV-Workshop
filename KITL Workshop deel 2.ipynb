{
 "cells": [
  {
   "cell_type": "markdown",
   "metadata": {},
   "source": [
    "Simple sentiment analysis"
   ]
  },
  {
   "cell_type": "code",
   "execution_count": 4,
   "metadata": {
    "collapsed": false
   },
   "outputs": [
    {
     "data": {
      "image/png": "[encoded data removed]",
      "text/plain": [
       "<matplotlib.figure.Figure at 0x10f2ef550>"
      ]
     },
     "metadata": {},
     "output_type": "display_data"
    }
   ],
   "source": [
    "\n",
    "import re\n",
    "import os\n",
    "from os.path import isfile, join , isdir\n",
    "import string\n",
    "\n",
    "from kitlvTdm import *\n",
    "\n",
    "\n",
    "xData = []\n",
    "yData = []\n",
    "labels = []\n",
    "\n",
    "dir = 'Corpus'\n",
    "\n",
    "for file in ( '03391.txt' , '03392.txt' , '03393.txt' , '03394.txt' ):\n",
    "    count = sentimentAnalysis( join( dir , file ) )\n",
    "    xData.append( count['positive'] / count['all'] )\n",
    "    yData.append( count['negative'] / count['all'] )\n",
    "    labels.append( file )\n",
    "\n",
    "import matplotlib.pyplot as plt\n",
    "\n",
    "\n",
    "plt.scatter(xData,yData,  color='#0a429b', s=30 , marker=\"o\")\n",
    "\n",
    "plt.xlabel('positive')\n",
    "plt.ylabel('negative')\n",
    "plt.title('Words with positive and negative connotation')\n",
    "\n",
    "for i in range( 0 , len(labels) ):\n",
    "    plt.annotate( labels[i] , xy = ( xData[i] , yData[i] ) , xytext=( 0, 10) , textcoords='offset pixels',horizontalalignment='right',verticalalignment='bottom')\n",
    "    #print( i )\n",
    "    #print( labels[i] , xData[i] , yData[i] )\n",
    "\n",
    "plt.show()"
   ]
  },
  {
   "cell_type": "markdown",
   "metadata": {},
   "source": [
    "Word Embeddings"
   ]
  },
  {
   "cell_type": "code",
   "execution_count": null,
   "metadata": {
    "collapsed": false
   },
   "outputs": [],
   "source": [
    "import gensim\n",
    "\n",
    "word2vec_model_file = \"egodocumenten.txt\"\n",
    "ed_model = gensim.models.KeyedVectors.load( word2vec_model_file )\n"
   ]
  },
  {
   "cell_type": "code",
   "execution_count": 9,
   "metadata": {
    "collapsed": false
   },
   "outputs": [
    {
     "name": "stdout",
     "output_type": "stream",
     "text": [
      "java [('Wake,', 0.9015474319458008), ('Palau', 0.8997372984886169), ('West:', 0.8877148628234863), ('(april', 0.8868509531021118), ('Alblasserdam,', 0.8846583366394043), ('gppelmoes', 0.8829190731048584), ('jag', 0.8805401921272278), ('Jima,', 0.8801673650741577), ('8914', 0.8797597885131836), ('4-4-49.', 0.8774620294570923)]\n",
      "soldaat [('soldaat,', 0.8050789833068848), ('marinier', 0.7899085879325867), ('jongen', 0.771345853805542), ('korporaal', 0.7524487972259521), ('sergeant', 0.71956467628479), ('matroos', 0.6950929760932922), ('officier', 0.681108832359314), ('veteraan', 0.673395037651062), ('hospik', 0.672511637210846), ('sergeant,', 0.6714698076248169)]\n",
      "japanner [('It.oo', 0.8153079748153687), ('b\"!bta\"', 0.8085429668426514), ('Mal-', 0.796760082244873), ('varkanninga-Patrouilla', 0.7941957712173462), ('gjyijd', 0.7899056077003479), ('ueru/oeste', 0.7877514362335205), ('ronoeobo', 0.7861915826797485), ('plaatsenTPtn', 0.7823772430419922), ('uitbesteed', 0.782133936882019), ('-dagboeken', 0.781959593296051)]\n",
      "molukken [('Zijden', 0.7425731420516968), ('Kanselarij', 0.7425121068954468), ('^\"^SSen^^^S<^Soepen', 0.7423408031463623), ('Sanitatsmedizin', 0.7389756441116333), ('Aus', 0.7357098460197449), ('iNovIorVd<kmst', 0.7355610132217407), ('Inlichtingen:', 0.7317901849746704), ('Liturgie', 0.7307419776916504), ('Wielen', 0.7306230068206787), ('Kop,', 0.729935348033905)]\n"
     ]
    }
   ],
   "source": [
    "for word in ('java','soldaat','japanner','molukken'):\n",
    "    if word in ed_model:\n",
    "        print(word,ed_model.most_similar(word))"
   ]
  },
  {
   "cell_type": "markdown",
   "metadata": {},
   "source": [
    "Topic Modelling"
   ]
  },
  {
   "cell_type": "code",
   "execution_count": null,
   "metadata": {
    "collapsed": true
   },
   "outputs": [],
   "source": []
  },
  {
   "cell_type": "markdown",
   "metadata": {},
   "source": [
    "Geographic locations"
   ]
  },
  {
   "cell_type": "code",
   "execution_count": null,
   "metadata": {
    "collapsed": true
   },
   "outputs": [],
   "source": []
  },
  {
   "cell_type": "markdown",
   "metadata": {},
   "source": [
    "Lexicons"
   ]
  },
  {
   "cell_type": "code",
   "execution_count": null,
   "metadata": {
    "collapsed": true
   },
   "outputs": [],
   "source": []
  },
  {
   "cell_type": "markdown",
   "metadata": {},
   "source": [
    "Linguistic Analysis"
   ]
  },
  {
   "cell_type": "code",
   "execution_count": null,
   "metadata": {
    "collapsed": true
   },
   "outputs": [],
   "source": []
  }
 ],
 "metadata": {
  "kernelspec": {
   "display_name": "Python 3",
   "language": "python",
   "name": "python3"
  },
  "language_info": {
   "codemirror_mode": {
    "name": "ipython",
    "version": 3
   },
   "file_extension": ".py",
   "mimetype": "text/x-python",
   "name": "python",
   "nbconvert_exporter": "python",
   "pygments_lexer": "ipython3",
   "version": "3.5.2"
  }
 },
 "nbformat": 4,
 "nbformat_minor": 1
}
